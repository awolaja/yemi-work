{
  "nbformat": 4,
  "nbformat_minor": 0,
  "metadata": {
    "colab": {
      "provenance": [],
      "authorship_tag": "ABX9TyPoJVYdbgIexHdmEricbgv5",
      "include_colab_link": true
    },
    "kernelspec": {
      "name": "python3",
      "display_name": "Python 3"
    },
    "language_info": {
      "name": "python"
    }
  },
  "cells": [
    {
      "cell_type": "markdown",
      "metadata": {
        "id": "view-in-github",
        "colab_type": "text"
      },
      "source": [
        "<a href=\"https://colab.research.google.com/github/awolaja/yemi-work/blob/main/PII_masking.ipynb\" target=\"_parent\"><img src=\"https://colab.research.google.com/assets/colab-badge.svg\" alt=\"Open In Colab\"/></a>"
      ]
    },
    {
      "cell_type": "code",
      "source": [
        "!pip install faker"
      ],
      "metadata": {
        "id": "GyjZlfRmbX7O"
      },
      "execution_count": null,
      "outputs": []
    },
    {
      "cell_type": "code",
      "execution_count": 13,
      "metadata": {
        "id": "wXMhN8XpYmBK"
      },
      "outputs": [],
      "source": [
        "import random\n",
        "import string\n",
        "import faker\n",
        "from faker import Faker"
      ]
    },
    {
      "cell_type": "markdown",
      "source": [
        "This Function Generates 20 random SSN"
      ],
      "metadata": {
        "id": "EtV8zN7Kci0n"
      }
    },
    {
      "cell_type": "code",
      "source": [
        "def generate_ssn():\n",
        "    # Generate a random SSN in the format XXX-XX-XXXX\n",
        "    ssn = f\"{random.randint(100, 999)}-{random.randint(10, 99)}-{random.randint(1000, 9999)}\"\n",
        "    return ssn\n",
        "\n",
        "# Generating 20 SSNs\n",
        "ssns = [generate_ssn() for _ in range(20)]\n",
        "print(\"Generated SSNs:\")\n",
        "print(ssns)"
      ],
      "metadata": {
        "colab": {
          "base_uri": "https://localhost:8080/"
        },
        "id": "47FBZr7xYvwg",
        "outputId": "17e872e7-bae0-44f5-9c79-e7f24f7455ea"
      },
      "execution_count": 12,
      "outputs": [
        {
          "output_type": "stream",
          "name": "stdout",
          "text": [
            "Generated SSNs:\n",
            "['359-33-1120', '249-41-6421', '737-35-7728', '367-58-7763', '698-97-8614', '581-95-7585', '702-15-8356', '612-29-5930', '265-50-4192', '404-50-4883', '357-31-4220', '704-46-4249', '833-83-7062', '154-32-2493', '119-61-3003', '244-40-7009', '526-66-1661', '902-86-1303', '920-23-5198', '713-29-8536']\n"
          ]
        }
      ]
    },
    {
      "cell_type": "markdown",
      "source": [
        "This function masks the generated SSN from above function"
      ],
      "metadata": {
        "id": "6cshcIqAcqZ9"
      }
    },
    {
      "cell_type": "code",
      "source": [
        "def mask_ssn(ssns):\n",
        "    # Masking the SSN by keeping the first 3 digits and replacing the rest with 'X'\n",
        "    masked_ssns = [ssn[:3] + '-XX-XXXX' for ssn in ssns]\n",
        "    return masked_ssns\n",
        "\n",
        "# Applying masking to the generated SSNs\n",
        "masked_ssns = mask_ssn(ssns)\n",
        "print(\"Masked SSNs:\")\n",
        "print(masked_ssns)\n"
      ],
      "metadata": {
        "colab": {
          "base_uri": "https://localhost:8080/"
        },
        "id": "kxMhOvIXY1HH",
        "outputId": "57785220-d749-47f6-c930-a73d3f99f3fa"
      },
      "execution_count": 6,
      "outputs": [
        {
          "output_type": "stream",
          "name": "stdout",
          "text": [
            "Masked SSNs:\n",
            "['564-XX-XXXX', '548-XX-XXXX', '549-XX-XXXX', '770-XX-XXXX', '140-XX-XXXX', '731-XX-XXXX', '287-XX-XXXX', '872-XX-XXXX', '236-XX-XXXX', '396-XX-XXXX', '495-XX-XXXX', '158-XX-XXXX', '634-XX-XXXX', '243-XX-XXXX', '282-XX-XXXX', '301-XX-XXXX', '628-XX-XXXX', '947-XX-XXXX', '355-XX-XXXX', '814-XX-XXXX']\n"
          ]
        }
      ]
    },
    {
      "cell_type": "code",
      "source": [
        "This function generates 20 random emails"
      ],
      "metadata": {
        "id": "Hrj_dE9EcxGz"
      },
      "execution_count": null,
      "outputs": []
    },
    {
      "cell_type": "code",
      "source": [
        "def generate_email():\n",
        "    # Generate a random email address\n",
        "    local_part = ''.join(random.choices(string.ascii_lowercase, k=random.randint(5, 10)))\n",
        "    domain_part = ''.join(random.choices(string.ascii_lowercase, k=random.randint(3, 5))) + '.com'\n",
        "    email = local_part + '@' + domain_part\n",
        "    return email\n",
        "\n",
        "# Generating 20 random email addresses\n",
        "emails = [generate_email() for _ in range(20)]\n",
        "print(\"Generated Email Addresses:\")\n",
        "print(emails)"
      ],
      "metadata": {
        "colab": {
          "base_uri": "https://localhost:8080/"
        },
        "id": "Qh4JovlDZo4E",
        "outputId": "c7551ec6-92a3-4319-a2ec-d0b474cf1e10"
      },
      "execution_count": 7,
      "outputs": [
        {
          "output_type": "stream",
          "name": "stdout",
          "text": [
            "Generated Email Addresses:\n",
            "['tlnnv@bxew.com', 'ifywexs@bfoj.com', 'qetbjlv@kra.com', 'fheowqiem@ixz.com', 'uerlklcot@ergs.com', 'zomrvwodeb@rhhcv.com', 'ljxyjag@pjaek.com', 'yxxwocgo@rlac.com', 'lxgtk@gqa.com', 'ipwawu@dtaga.com', 'fwvndyqoc@ivcz.com', 'lhotlkye@gtnw.com', 'aumwka@ffm.com', 'ycjqi@ssd.com', 'zrtsfoust@qqvmu.com', 'wqycfbw@qgaj.com', 'ilsqgwn@eecl.com', 'xwpggdlye@dxwnq.com', 'aymer@snww.com', 'uffoa@slohf.com']\n"
          ]
        }
      ]
    },
    {
      "cell_type": "markdown",
      "source": [
        "This function mask email address generated from above"
      ],
      "metadata": {
        "id": "Sjopx6Gnc6T3"
      }
    },
    {
      "cell_type": "code",
      "source": [
        "def mask_email(emails):\n",
        "    # Masking the email address by keeping the first character of the local part and replacing the rest with 'X'\n",
        "    masked_emails = [email[0] + 'X'*(email.index('@')-1) + email[email.index('@'):] for email in emails]\n",
        "    return masked_emails\n",
        "\n",
        "# Applying masking to the generated email addresses\n",
        "masked_emails = mask_email(emails)\n",
        "print(\"Masked Email Addresses:\")\n",
        "print(masked_emails)"
      ],
      "metadata": {
        "colab": {
          "base_uri": "https://localhost:8080/"
        },
        "id": "KPOhku4YZxJe",
        "outputId": "96c88fe2-4b28-4acf-c6da-7e591de18f31"
      },
      "execution_count": 8,
      "outputs": [
        {
          "output_type": "stream",
          "name": "stdout",
          "text": [
            "Masked Email Addresses:\n",
            "['tXXXX@bxew.com', 'iXXXXXX@bfoj.com', 'qXXXXXX@kra.com', 'fXXXXXXXX@ixz.com', 'uXXXXXXXX@ergs.com', 'zXXXXXXXXX@rhhcv.com', 'lXXXXXX@pjaek.com', 'yXXXXXXX@rlac.com', 'lXXXX@gqa.com', 'iXXXXX@dtaga.com', 'fXXXXXXXX@ivcz.com', 'lXXXXXXX@gtnw.com', 'aXXXXX@ffm.com', 'yXXXX@ssd.com', 'zXXXXXXXX@qqvmu.com', 'wXXXXXX@qgaj.com', 'iXXXXXX@eecl.com', 'xXXXXXXXX@dxwnq.com', 'aXXXX@snww.com', 'uXXXX@slohf.com']\n"
          ]
        }
      ]
    },
    {
      "cell_type": "markdown",
      "source": [
        "This function masks email address"
      ],
      "metadata": {
        "id": "jpt2c_8QdEW3"
      }
    },
    {
      "cell_type": "code",
      "source": [
        "def mask_email_with_faker(emails, max_length=15):\n",
        "    masked_emails = []\n",
        "    for email in emails:\n",
        "        local_part, domain_part = email.split('@')\n",
        "        if len(local_part) > max_length:\n",
        "            # Replace the local part with a fake one\n",
        "            local_part = fake.user_name()\n",
        "        masked_email = local_part + '@' + domain_part\n",
        "        masked_emails.append(masked_email)\n",
        "    return masked_emails\n",
        "\n",
        "# Example usage\n",
        "emails = [generate_email() for _ in range(20)]  # Assuming generate_email is your previous email generator function\n",
        "masked_emails = mask_email_with_faker(emails)\n",
        "print(\"Masked Email Addresses:\")\n",
        "print(masked_emails)"
      ],
      "metadata": {
        "colab": {
          "base_uri": "https://localhost:8080/"
        },
        "id": "Chre1hfRbg6u",
        "outputId": "2d797765-5775-4057-945c-4287154ad365"
      },
      "execution_count": 16,
      "outputs": [
        {
          "output_type": "stream",
          "name": "stdout",
          "text": [
            "Masked Email Addresses:\n",
            "['ouuainjmih@uxnd.com', 'yrdgygllq@smkoq.com', 'zcidj@tjp.com', 'vhbtfcmtls@yoms.com', 'oafeu@yexi.com', 'tfbkvfvzel@iznzz.com', 'rpyckj@xacaf.com', 'iwxezi@fna.com', 'zlzqamfl@yuxi.com', 'thfvu@sibd.com', 'icjtgef@iqvpt.com', 'zzxowa@uvawz.com', 'emztba@rjgp.com', 'zgkvuflngw@wemg.com', 'wqvcnydv@smjo.com', 'tpvsyyv@kgzmo.com', 'amopiwqc@bkn.com', 'wxyvqwqgs@xpvp.com', 'jimsz@bfshp.com', 'hiaxhxnouw@bdnj.com']\n"
          ]
        }
      ]
    }
  ]
}